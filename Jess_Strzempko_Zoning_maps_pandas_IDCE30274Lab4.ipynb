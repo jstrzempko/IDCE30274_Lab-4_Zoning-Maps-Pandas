{
  "nbformat": 4,
  "nbformat_minor": 0,
  "metadata": {
    "colab": {
      "name": "Jess-Strzempko_Zoning-maps-pandas_IDCE30274Lab4.ipynb",
      "provenance": [],
      "collapsed_sections": [],
      "authorship_tag": "ABX9TyP/ouKki/r3yRUJNSfrGkwA",
      "include_colab_link": true
    },
    "kernelspec": {
      "name": "python3",
      "display_name": "Python 3"
    }
  },
  "cells": [
    {
      "cell_type": "markdown",
      "metadata": {
        "id": "view-in-github",
        "colab_type": "text"
      },
      "source": [
        "<a href=\"https://colab.research.google.com/github/IDCE-MSGIS/lab-4-zoning-maps-pandas-jstrzempko/blob/main/Jess_Strzempko_Zoning_maps_pandas_IDCE30274Lab4.ipynb\" target=\"_parent\"><img src=\"https://colab.research.google.com/assets/colab-badge.svg\" alt=\"Open In Colab\"/></a>"
      ]
    },
    {
      "cell_type": "markdown",
      "metadata": {
        "id": "BG6g-1t0Pm-_"
      },
      "source": [
        "## Jess Strzempko  \n",
        "Created 11.06.20  \n",
        "Python version 3.6.9  \n",
        "IDCE 30274 Computer Programming for GIS  \n",
        "\n",
        "## Lab 4 - Zoning Maps with Pandas\n",
        "\n",
        "This script uses data on Planned Unit Developments and affordable housing from DC's Open Data portal to teach how to navigate geographic shapefiles in a Jupyter notebook. This notebook uploads data from a local computer, concatenates the datasets and conducts basic analysis. Crosswalks are used to give the data clearer identification. Preliminary maps are created for visualization purposes, but the full map created with shapefiles copied from this script can be viewed through the Carto link on the GitHub repo.\n",
        "\n",
        "**Inputs:**  \n",
        "\n",
        "* Packages installed  \n",
        "  + pandas  \n",
        "  + geopandas  \n",
        "  + shapely.geometry (Point, Polygon, Multipolygon)  \n",
        "  + shapely well known text (wkt)\n",
        "  + rtree  \n",
        "* Planned_Unit_Development__PUDs_.shp (PUDs in DC as a shapefile)\n",
        "* Affordable_Housing.csv (affordable housing in DC as a csv file)\n",
        "* zoning_crosswalk.csv (zoning crosswalk as a csv)\n",
        "\n",
        "**Outputs:**  \n",
        "* puds_info.shp (shapefile containing joined PUD & AH info)"
      ]
    },
    {
      "cell_type": "code",
      "metadata": {
        "id": "w9YUSu2ePDz_"
      },
      "source": [
        "# Set-up Code Block\n",
        "\n",
        "# The pandas library is already installed in the Google colab environment\n",
        "# But we will install along with other packages as a demonstration\n",
        "\n",
        "# Add GIS packages to Colab environment\n",
        "!pip install geopandas\n",
        "!apt-get install -y libspatialindex-dev\n",
        "!pip install rtree\n",
        "\n",
        "# Import packages\n",
        "# Use \"import [package] as [name]\" to specify an easier name to call the package for future reference\n",
        "# Comment code provides information on purpose of each package\n",
        "import pandas as pd  # provides interface for interacting with tabular data\n",
        "import geopandas as gpd  # combines the capabilities of pandas and shapely for geospatial operations\n",
        "from shapely.geometry import Point, Polygon, MultiPolygon  # for manipulating text data into geospatial shapes\n",
        "from shapely import wkt  # stands for \"well known text,\" allows for interchange across GIS programs\n",
        "import rtree  # supports geospatial join\n",
        "\n",
        "# Import drive into Colab environment\n",
        "from google.colab import drive\n",
        "# Connect Colab to Google Drive\n",
        "drive.mount('/content/gdrive') \n",
        "# Set root path to folder where data was uploaded from OpenData DC\n",
        "root_path = 'gdrive/My Drive/Colab_Notebooks/IDCE30274/Lab4'"
      ],
      "execution_count": null,
      "outputs": []
    },
    {
      "cell_type": "code",
      "metadata": {
        "id": "QAE3P6mOW8Rh"
      },
      "source": [
        "# Analysis Code Block\n",
        "\n",
        "# Read in PUDs file as a geodataframe and initialize coordinate reference system (CRS)\n",
        "puds = gpd.read_file(root_path+'/inputs/Planned_Unit_Development__PUDs_.shp', crs = {'init' :'epsg:4326'})\n",
        "# Read in two csv files as standard pandas DatFrames\n",
        "aff = pd.read_csv(root_path+'/inputs/Affordable_Housing.csv')\n",
        "crosswalk = pd.read_csv(root_path+'/inputs/zoning_crosswalk.csv')\n",
        "\n",
        "# Commented-out lines of code provide visualization of data\n",
        "\n",
        "# Running .sample() grabs rows from the first 3 index places in puds\n",
        "# puds.sample(3)\n",
        "# Summarize what is within the Affordable housing .csv with .info()\n",
        "# aff.info()\n",
        "# Same can be done for puds\n",
        "# puds.info()\n",
        "\n",
        "# Create a geometry column in the affordable housing dataframe\n",
        "# by wrapping the longitude (‘X’) and latitude (‘Y’) in a Shapely POINT object\n",
        "aff['geometry'] = aff.apply(lambda row: Point(row.X, row.Y), axis=1)\n",
        "# Create a GeoDataFrame from the new aff data\n",
        "aff = gpd.GeoDataFrame(aff, crs={'init' :'epsg:4326'})\n",
        "\n",
        "# Now when we sample the first index, we can see the addition of the geometry column\n",
        "# aff.sample(1) \n",
        "\n",
        "# Use geospatial join to identify which PUDs include affordable housing projects\n",
        "# Merge the datasets based on their geographic intersection\n",
        "puds_aff = gpd.sjoin(puds, aff, op='intersects', how='left')\n",
        "\n",
        "# Check that the Merge was performed successfully\n",
        "# puds_aff.info()\n",
        "\n",
        "# Merge dataframe with zoning categories crosswalk\n",
        "# This will categorize zoning exempted buildings as Commercial, Residential, or Other/Mixed Use.\n",
        "puds_info = puds_aff.merge(crosswalk[['Zone_Cat']], how='left', left_on='PUD_ZONING', right_on=crosswalk['Zone'])\n",
        "\n",
        "# Use print statements to show us the total number of PUDs\n",
        "# and how many offer affordable housing\n",
        "# print(f\"Total count of PUDs: {puds_info.shape[0]}\")\n",
        "# print(f\"Count PUDs offering Affordable Housing: {puds_info.loc[~puds_info.PROJECT_NAME.isna()].shape[0]}\")\n",
        "\n",
        "# Create a quick map of PUDs by Zoning Category\n",
        "# puds_info.plot(column='Zone_Cat', legend=True, figsize=(16,8));\n",
        "\n",
        "# Create a map of just the PUDs that provide Affordable Housing\n",
        "# puds_info[puds_info['TOTAL_AFFORDABLE_UNITS']>0].plot(column='TOTAL_AFFORDABLE_UNITS', color='grey', figsize=(16,8));\n",
        "\n",
        "# Export GeoDataFrame as a shapefile within Colab environment\n",
        "puds_info.to_file('puds_info.shp')\n",
        "\n",
        "# Copy shapefile components from Colab environment to Google Drive using bash script\n",
        "# Check google drive to ensure that copy was successful\n",
        "!cp puds_info.cpg 'gdrive/My Drive/Colab_Notebooks/IDCE30274/Lab4/outputs'\n",
        "!cp puds_info.dbf 'gdrive/My Drive/Colab_Notebooks/IDCE30274/Lab4/outputs'\n",
        "!cp puds_info.prj 'gdrive/My Drive/Colab_Notebooks/IDCE30274/Lab4/outputs'\n",
        "!cp puds_info.shp 'gdrive/My Drive/Colab_Notebooks/IDCE30274/Lab4/outputs'\n",
        "!cp puds_info.shx 'gdrive/My Drive/Colab_Notebooks/IDCE30274/Lab4/outputs'"
      ],
      "execution_count": null,
      "outputs": []
    }
  ]
}